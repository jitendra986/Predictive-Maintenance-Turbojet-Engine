{
 "cells": [
  {
   "cell_type": "code",
   "execution_count": 1,
   "id": "b6f4d44d",
   "metadata": {},
   "outputs": [],
   "source": [
    "import numpy as np\n",
    "# import matplotlib.pyplot as plt\n",
    "import seaborn as sns\n",
    "import scipy.stats as sps\n",
    "import math"
   ]
  },
  {
   "cell_type": "code",
   "execution_count": 2,
   "id": "16b6b28a",
   "metadata": {},
   "outputs": [],
   "source": [
    "import matplotlib\n",
    "import matplotlib.pyplot as plt\n",
    "# matplotlib.rcParams.update({'font.size': 20})\n",
    "matplotlib.rc('font', **{'family': 'serif', 'serif': ['Computer Modern']})\n",
    "# plt.rcParams[\"font.family\"] = \"Times New Roman\"\n",
    "# plt.rcParams['mathtext.fontset'] = 'Times New Roman'\n",
    "# plt.rcParams[\"font.family\"] = \"serif\"\n",
    "# plt.rcParams[\"font.serif\"] = [\"Times New Roman\"] + plt.rcParams[\"font.serif\"]\n",
    "\n",
    "matplotlib.rcParams['text.usetex'] = True \n",
    "plt.rcParams['text.latex.preamble'] = r\"\\usepackage{bm} \\usepackage{amsmath}\"\n",
    "# plt.style.use('ggplot')\n",
    "%matplotlib inline"
   ]
  },
  {
   "cell_type": "code",
   "execution_count": 14,
   "id": "0a53c610",
   "metadata": {},
   "outputs": [],
   "source": [
    "cost_ratio = np.array([0.01, 0.1, 0.2, 0.5, 0.8, 0.8333, 0.91])\n",
    "error = np.array([4.26, 1.62, 1.38, 0.68, 0.22, 1.06, ])"
   ]
  },
  {
   "cell_type": "code",
   "execution_count": 13,
   "id": "efa4ee57",
   "metadata": {},
   "outputs": [
    {
     "data": {
      "image/png": "[encoded data removed]",
      "text/plain": [
       "<Figure size 432x288 with 1 Axes>"
      ]
     },
     "metadata": {
      "needs_background": "light"
     },
     "output_type": "display_data"
    }
   ],
   "source": [
    "plt.plot(cost_ratio, error, color = 'black', label = 'DN if $Pr(RUL_k\\leq \\Delta T)<\\dfrac{C_p}{C_c}$')\n",
    "plt.xlabel('$\\dfrac{C_p}{C_c}$',fontsize='14')\n",
    "plt.ylabel('$M\\cdot 100$ (\\%)',fontsize='14')\n",
    "plt.axhline(y=0.22, xmin=0.05, xmax=0.95, color='green', label = 'DN if $Pr(RUL_k\\leq \\Delta T)<0.8$')\n",
    "plt.xticks(fontsize=14)\n",
    "plt.yticks(fontsize=14)\n",
    "plt.ylim(-0.5,13)\n",
    "plt.legend(fontsize = 13, loc='upper right')\n",
    "plt.savefig('error_M_for_cost_ratios.pdf', bbox_inches = 'tight',pad_inches = 0.1, dpi = 300)\n",
    "plt.show()"
   ]
  },
  {
   "cell_type": "code",
   "execution_count": null,
   "id": "9e82bd71",
   "metadata": {},
   "outputs": [],
   "source": []
  }
 ],
 "metadata": {
  "kernelspec": {
   "display_name": "Python 3",
   "language": "python",
   "name": "python3"
  },
  "language_info": {
   "codemirror_mode": {
    "name": "ipython",
    "version": 3
   },
   "file_extension": ".py",
   "mimetype": "text/x-python",
   "name": "python",
   "nbconvert_exporter": "python",
   "pygments_lexer": "ipython3",
   "version": "3.7.3"
  }
 },
 "nbformat": 4,
 "nbformat_minor": 5
}
